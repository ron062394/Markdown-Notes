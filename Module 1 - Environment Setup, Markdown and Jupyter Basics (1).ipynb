{
 "cells": [
  {
   "cell_type": "markdown",
   "id": "86e90e5d-e28b-4869-b93a-23993feac98a",
   "metadata": {},
   "source": [
    "![Image Alt Text](https://tcsbi.com/wp-content/uploads/analysis-banner.jpg)"
   ]
  },
  {
   "cell_type": "markdown",
   "id": "13da5d5c-9874-4124-94a2-7fbfd018eea0",
   "metadata": {},
   "source": [
    "# Module 1 - Intro to Data Analytics, Environment Setup and Markdown"
   ]
  },
  {
   "cell_type": "markdown",
   "id": "ecaa487a-87cc-4459-a863-2be46bc95d26",
   "metadata": {},
   "source": [
    "**Overview**: This PowerPoint presentation provides a theoretical foundation for understanding the concepts and principles underlying the use of data analytics."
   ]
  },
  {
   "cell_type": "markdown",
   "id": "6e88de7d-bb13-40bd-a123-913f243189fa",
   "metadata": {},
   "source": [
    "**Access the Presentation here**: [Introduction to Data Analytics](https://www.canva.com/design/DAGC26y_GrQ/PxBL93Ek246oPmRUt3JXcA/edit?utm_content=DAGC26y_GrQ&utm_campaign=designshare&utm_medium=link2&utm_source=sharebutton)"
   ]
  },
  {
   "cell_type": "markdown",
   "id": "d4f78017-d659-426c-aaf0-04b891ece2e1",
   "metadata": {},
   "source": [
    "## Environment Setup"
   ]
  },
  {
   "cell_type": "markdown",
   "id": "3e0600b5-adb9-429e-9fad-d7f7e424e3af",
   "metadata": {},
   "source": [
    "### Python Installation\n",
    "1. **Download Python**\n",
    "Visit the official Python website at https://www.python.org/downloads/. On the homepage, you'll see a prominent download button. Click on it to go to the download page.\n",
    "\n",
    "2. **Choose Version:**\n",
    "Python has two major versions: Python 2 and Python 3. Python 2 is no longer actively developed or maintained, so it's recommended to download Python 3. On the download page, you'll see the latest version of Python 3. Click on it to proceed.\n",
    "\n",
    "3. **Select Operating System**:\n",
    "Python is available for various operating systems including Windows, macOS, and Linux. Choose the installer appropriate for your system.\n",
    "\n",
    "4. **Download Installer**:\n",
    "Once you've selected your operating system, click on the link to download the installer. The file size is relatively small, so it should download quickly.\n",
    "\n",
    "5. **Run Installer**:\n",
    "Once the installer is downloaded, locate the file and run it. Follow the installation wizard instructions. Make sure to check the box that says \"Add Python X.X to PATH\" during installation. This option ensures that Python is added to your system's PATH environment variable, making it easier to run Python from the command line.  \n",
    "   ![Image Alt Text](https://i.imgur.com/Zkp4E31.png)\n",
    "\n",
    "\n",
    "6. **Verify Installation**:\n",
    "After the installation is complete, you can verify that Python was installed correctly by opening a command prompt (on Windows) or a terminal (on macOS or Linux) and typing python --version or python3 --version depending on your system. This command should display the installed version of Python."
   ]
  },
  {
   "cell_type": "markdown",
   "id": "9fad34ad-7f36-4e78-bb30-01605daa7280",
   "metadata": {},
   "source": [
    "### Setting Up Visual Studio Code**\n",
    "Visual Studio Code (VS Code) is a free and open-source code editor developed by Microsoft. It is available for Windows, macOS, and Linux.\n",
    "Installation\n",
    "1. Go to the Visual Studio Code website: https://code.visualstudio.com/ .\n",
    "2. Select your operating system and click Download.\n",
    "3. Double-click the downloaded file to install Visual Studio Code.\n",
    "4. Follow the on-screen instructions to complete the installation."
   ]
  },
  {
   "cell_type": "markdown",
   "id": "609be913-9cbe-4f51-a4d5-314481965a81",
   "metadata": {},
   "source": [
    "### Setting up a Python environment with Jupyter Notebook\n",
    "1. **Create a Folder**:\n",
    "First, create a folder on your computer where you want to use Jupyter Notebook. You can do this by navigating to the desired location using your file explorer and creating a new folder.\n",
    "\n",
    "2. **Create a Virtual Environment**:\n",
    "Open your command prompt (Windows) or terminal (macOS/Linux) and navigate to the folder you just created. Then, run the following command to create a virtual environment named venv:\n",
    "\n",
    "   `python -m venv venv`\n",
    "\n",
    "3. **Activate the Virtual Environment**:\n",
    "Depending on your operating system, activate the virtual environment using the appropriate command:\n",
    "\n",
    "   Windows: `venv\\Scripts\\activate`  \n",
    "   macOS/Linux: `source venv/bin/activate`\n",
    "\n",
    "   After activation, you should see (venv) at the beginning of your command prompt or terminal prompt, indicating that the virtual environment is active.\n",
    "\n",
    "\n",
    "4. **Install IPython**:\n",
    "IPython provides a more interactive Python interpreter and is commonly used with Jupyter Notebook. Install IPython by running the following command:  \n",
    "   `pip install ipython`\n",
    "\n",
    "5. **Install Required Packages**:\n",
    "While the virtual environment is active, run the following command to list all installed packages:\n",
    "\n",
    "   `python -m pip freeze`\n",
    "  This command should display an empty list since the virtual environment is newly created.\n",
    "\n",
    "   `python -m pip freeze > requirements.txt`\n",
    "  This command should a text file with the required packages for the project.\n",
    "\n",
    "\n",
    "6. **Choose a Kernel Source**:\n",
    "Next, you need to choose a kernel source for Jupyter Notebook.\n",
    "   `Python Environments`\n",
    "\n",
    "7. **Select a Python Environment**:\n",
    "To use the virtual environment (venv) you created earlier as a kernel in Jupyter Notebook.\n",
    "   `venv"
   ]
  },
  {
   "cell_type": "markdown",
   "id": "2d5f5508-9747-4d3e-8871-b08add78c1da",
   "metadata": {},
   "source": [
    "![Image Alt Text](https://cdn.icon-icons.com/icons2/2699/PNG/512/jupyter_logo_icon_169453.png)"
   ]
  },
  {
   "cell_type": "markdown",
   "id": "22c1f3cb-20f3-4303-9c6d-e29c8acd371d",
   "metadata": {},
   "source": [
    "## Introduction to Jupyter Notebooks"
   ]
  },
  {
   "cell_type": "markdown",
   "id": "e95822c2-c12b-4b79-9dc0-6d553f2e6dd0",
   "metadata": {},
   "source": [
    "### Overview of Jupyter Notebooks"
   ]
  },
  {
   "cell_type": "markdown",
   "id": "4281e004-95d3-4313-b25f-1e69f9ad64db",
   "metadata": {},
   "source": [
    "Jupyter Notebooks are interactive computing environments that enable users to create and share documents containing live code, equations, visualizations, and narrative text. Originally developed for Python, Jupyter now supports multiple programming languages, including R, Julia, and more."
   ]
  },
  {
   "cell_type": "markdown",
   "id": "d84e129b-1e9c-43ff-985c-0c0504c5b608",
   "metadata": {},
   "source": [
    "### Advantages of using Jupyter Notebooks"
   ]
  },
  {
   "cell_type": "markdown",
   "id": "98588da7-4baf-456c-9096-7e08ea6d5ee1",
   "metadata": {},
   "source": [
    "1. **Interactivity and Exploratory Data Analysis**: Jupyter Notebooks allow users to execute code interactively, making it ideal for exploratory data analysis tasks where users can iteratively analyze and visualize data.\n",
    "2. **Documentation and Narrative-Driven Analysis**: The integration of code and narrative text in Jupyter Notebooks facilitates the creation of rich, document-style analyses, making it easy to document workflows, explain methodologies, and share insights.\n",
    "3. **Collaboration and Sharing**: Jupyter Notebooks can be shared with others, allowing for collaboration on data analysis projects. Notebooks can also be exported to various formats, such as HTML or PDF, for easy dissemination."
   ]
  },
  {
   "cell_type": "markdown",
   "id": "e8b1f064-a0cb-4a2b-b2e4-d397fd212bef",
   "metadata": {},
   "source": [
    "### Understanding the Jupyter Interface"
   ]
  },
  {
   "cell_type": "markdown",
   "id": "e3375e82-11ab-434c-802c-700b9ca0f76e",
   "metadata": {},
   "source": [
    "#### Layout of the Jupyter Interface"
   ]
  },
  {
   "cell_type": "markdown",
   "id": "345f50cf-8179-4feb-86fb-fabbda3f24b2",
   "metadata": {},
   "source": [
    "The Jupyter interface consists of several components:"
   ]
  },
  {
   "cell_type": "markdown",
   "id": "6c8969a6-1073-4c8c-a49b-a43d7775b1b2",
   "metadata": {},
   "source": [
    "- **Dashboard View:** The starting point for managing notebooks and other files.\n",
    "- **Notebook Interface**: The main interface for creating, editing, and executing notebooks.\n",
    "- **Menus and Toolbars**: Provide access to various commands and options for working with notebooks.\n",
    "- **Kernel Status Indicator**: Indicates the status of the notebook's kernel (e.g., idle, busy, or disconnected)."
   ]
  },
  {
   "cell_type": "markdown",
   "id": "10762a12-f0c2-477e-985b-e14298517960",
   "metadata": {},
   "source": [
    "#### Navigation within Jupyter Notebooks"
   ]
  },
  {
   "cell_type": "markdown",
   "id": "79073abf-ce67-4b71-9026-cafdbcd78583",
   "metadata": {},
   "source": [
    "- **Navigating Between Cells**: Use arrow keys or mouse clicks to navigate between cells in a notebook.\n",
    "- **Scrolling and Zooming**: Scrollbars allow vertical scrolling, while zoom options adjust the size of text and code cells.\n",
    "- **Switching Between Edit and Command Modes**: Press Esc to enter command mode and Enter to enter edit mode. Command mode allows for navigation and execution, while edit mode enables text and code editing.\n",
    "- **Keyboard Shortcuts**: Jupyter provides numerous keyboard shortcuts for efficient navigation and execution. For example, pressing Shift + Enter executes the current cell and moves to the next one."
   ]
  },
  {
   "cell_type": "markdown",
   "id": "76867f16-ba8a-457d-8938-32b8c475d121",
   "metadata": {},
   "source": [
    "#### Creating, Opening, and Saving Notebooks"
   ]
  },
  {
   "cell_type": "markdown",
   "id": "f8d5bdfc-9276-4a97-9a5f-6a8afb580c30",
   "metadata": {},
   "source": [
    "##### Creating New Notebooks"
   ]
  },
  {
   "cell_type": "markdown",
   "id": "7239b619-ecce-4072-bf70-80cce4b8542e",
   "metadata": {},
   "source": [
    "To create a new notebook, click on the \"New\" button in the Jupyter dashboard and select the desired kernel (e.g., Python 3, R, Julia)."
   ]
  },
  {
   "cell_type": "markdown",
   "id": "4ec6967f-ad7b-44d3-911e-69281678f6f2",
   "metadata": {},
   "source": [
    "##### Opening Existing Notebooks"
   ]
  },
  {
   "cell_type": "markdown",
   "id": "5aa1563a-565d-4b15-b960-2ab0e1bda53d",
   "metadata": {},
   "source": [
    "Existing notebooks can be opened by navigating to the file location in the dashboard and clicking on the notebook file (*.ipynb). Alternatively, use the \"Open\" command from the dashboard menu."
   ]
  },
  {
   "cell_type": "markdown",
   "id": "60af610b-eb59-47b2-b60f-e5fde8d0481b",
   "metadata": {},
   "source": [
    "##### Saving Notebooks"
   ]
  },
  {
   "cell_type": "markdown",
   "id": "75f7e642-d6d1-4b5b-a10d-901e47e07300",
   "metadata": {},
   "source": [
    "To save a notebook, click on the \"Save\" button in the toolbar or use the keyboard shortcut Ctrl + S. Notebooks are automatically saved periodically, but manual saving is recommended to ensure changes are preserved."
   ]
  },
  {
   "cell_type": "markdown",
   "id": "cea1c8b1-e7e9-45b5-91a6-a2d13ad20d34",
   "metadata": {},
   "source": [
    "##### Exporting Notebooks"
   ]
  },
  {
   "cell_type": "markdown",
   "id": "ddaf6b94-ccc4-4605-8ea5-a311c08ec447",
   "metadata": {},
   "source": [
    "Notebooks can be exported to various formats using the \"File\" menu. Common export formats include HTML, PDF, and Markdown."
   ]
  },
  {
   "cell_type": "markdown",
   "id": "621d1b83-6458-49ad-8fbf-332b6e637d6d",
   "metadata": {},
   "source": [
    "#### Keyboard Shortcuts"
   ]
  },
  {
   "cell_type": "markdown",
   "id": "7cd72136-b5a2-427b-95e3-6d6abc3e3db6",
   "metadata": {},
   "source": [
    "Jupyter provides numerous keyboard shortcuts for efficient navigation and execution. Some commonly used keyboard shortcuts include:"
   ]
  },
  {
   "cell_type": "markdown",
   "id": "7a7ea4a2-63a1-46db-9f3e-0486d194851d",
   "metadata": {},
   "source": [
    "- **Shift + Enter**: Execute the current cell and move to the next one.\n",
    "- **Ctrl + Enter**: Execute the current cell and remain in the same cell.\n",
    "- **Esc**: Enter command mode, allowing for navigation and execution commands.\n",
    "- **Enter**: Enter edit mode for the currently selected cell.\n",
    "- **A (in command mode)**: Insert a new cell above the current cell.\n",
    "- **B (in command mode)**: Insert a new cell below the current cell.\n",
    "- **M (in command mode)**: Change the current cell to a Markdown cell.\n",
    "- **Y (in command mode)**: Change the current cell to a Code cell."
   ]
  },
  {
   "cell_type": "markdown",
   "id": "99fb3881-3a95-428a-bce1-4d99d77eb8e1",
   "metadata": {},
   "source": [
    "#### Markdown Cells vs. Code Cells"
   ]
  },
  {
   "cell_type": "markdown",
   "id": "5ed745fc-e16e-458c-8ee1-8fae3fc7d7e6",
   "metadata": {},
   "source": [
    "##### Explanation of Markdown Cells:"
   ]
  },
  {
   "cell_type": "markdown",
   "id": "f266b5d9-0b31-49bf-8d67-2f903b29540d",
   "metadata": {},
   "source": [
    "Markdown cells allow users to include formatted text, images, links, and other rich content in Jupyter Notebooks. Markdown is a lightweight markup language with plain-text formatting syntax."
   ]
  },
  {
   "cell_type": "markdown",
   "id": "6bb67096-4962-41f1-8e46-f821f12c2843",
   "metadata": {},
   "source": [
    "# Hello World!\n",
    "\n",
    "**Welcome to the world of Jupyter**"
   ]
  },
  {
   "cell_type": "markdown",
   "id": "504bfb33-b003-4d3c-bec0-4f07bd7ca07c",
   "metadata": {},
   "source": [
    "##### Explanation of Code Cells:"
   ]
  },
  {
   "cell_type": "markdown",
   "id": "799c0b4a-af76-489b-82ae-b657b20c29fa",
   "metadata": {},
   "source": [
    "Code cells contain executable code in the programming language of the selected kernel (e.g., Python, R). Output generated by code execution is displayed below the code cell."
   ]
  },
  {
   "cell_type": "code",
   "execution_count": 2,
   "id": "aeba17e9-d701-4cf6-b08f-0c7a1c1662d6",
   "metadata": {},
   "outputs": [
    {
     "name": "stdout",
     "output_type": "stream",
     "text": [
      "Hello, World!\n"
     ]
    }
   ],
   "source": [
    "# Python code cell\n",
    "print(\"Hello, World!\")"
   ]
  },
  {
   "cell_type": "markdown",
   "id": "bc51fa67-b469-4374-b4ad-9d6196a1db60",
   "metadata": {},
   "source": [
    "### What is Markdown?"
   ]
  },
  {
   "cell_type": "markdown",
   "id": "03f18a23-fb01-4182-8048-33fed1648de1",
   "metadata": {},
   "source": [
    "Markdown is a lightweight markup language with plain-text formatting syntax, designed to be easy to read and write. It was created by John Gruber in 2004 with the goal of allowing people to write using an easy-to-read and easy-to-write plain text format, which could then be converted into structurally valid XHTML (or HTML). Markdown is widely used for creating documentation, writing README files for projects, and even writing emails."
   ]
  },
  {
   "cell_type": "markdown",
   "id": "4fb455ee-7eb6-4eaf-9dee-78eefbf4c25b",
   "metadata": {},
   "source": [
    "### Basic Markdown Syntax:"
   ]
  },
  {
   "cell_type": "markdown",
   "id": "4df63573-3bec-4588-9912-705148026ff0",
   "metadata": {},
   "source": [
    "#### Headings"
   ]
  },
  {
   "cell_type": "markdown",
   "id": "d92ddd16-438a-4863-a63e-2e9c804ba7c2",
   "metadata": {},
   "source": [
    "Headings in Markdown are created by prefixing the text with one or more hash (#) symbols. The number of hash symbols indicates the level of the heading, with one hash symbol representing the highest level. There are six levels of headings, denoted by the number of hash symbols (#) preceding the heading text. Here are the six levels:"
   ]
  },
  {
   "cell_type": "markdown",
   "id": "4976078a-e1d4-4fff-8ca7-7ac6ffea68fa",
   "metadata": {},
   "source": [
    "# Heading 1 , title\n",
    "## Heading 2, major headings\n",
    "### Heading 3, subheadings\n",
    "#### Heading 4, 4th level subheadings\n",
    "##### Heading 5, 5th level subheadings\n",
    "###### Heading 6, 6th level subheadings"
   ]
  },
  {
   "cell_type": "markdown",
   "id": "9ebe0f28-8082-40b8-a917-1713a7337d58",
   "metadata": {},
   "source": [
    "Heading 1 represents the highest level of heading, typically used for the main title or heading of a page. As you move down the hierarchy, the heading levels decrease, with heading 6 being the lowest level of heading, used for subheadings or sections within a document.\n"
   ]
  },
  {
   "cell_type": "markdown",
   "id": "e54225f9-aeab-4e99-a50a-c0126c6f2474",
   "metadata": {},
   "source": [
    "#### Text Formatting"
   ]
  },
  {
   "cell_type": "markdown",
   "id": "a6581bfb-2414-489f-b209-d54f7d4abfb3",
   "metadata": {},
   "source": [
    "In Markdown, you can format text using various symbols to add emphasis or style to your writing.  Here are the basic text formatting options available:"
   ]
  },
  {
   "cell_type": "markdown",
   "id": "69ad64d8-1c91-412a-adf3-1a1e8b45eb80",
   "metadata": {},
   "source": [
    "##### Bold"
   ]
  },
  {
   "cell_type": "markdown",
   "id": "b7efd5da-3a62-466a-8571-433ac452bdcb",
   "metadata": {},
   "source": [
    "To make text bold, surround it with either double asterisks (**) or double underscores (__). This indicates to Markdown that the enclosed text should be displayed in a bold font style."
   ]
  },
  {
   "cell_type": "markdown",
   "id": "ca6e778b-2cdd-4a8b-ae3c-ab760102e995",
   "metadata": {},
   "source": [
    "**bold text**  \n",
    "__bold text__"
   ]
  },
  {
   "cell_type": "markdown",
   "id": "538c394f-7ed3-4364-8de6-fbfeecfc8155",
   "metadata": {},
   "source": [
    "##### Italic"
   ]
  },
  {
   "cell_type": "markdown",
   "id": "a314385a-5bd7-425f-b5dd-d15af5eaa6e9",
   "metadata": {},
   "source": [
    "To italicize text, surround it with single asterisks (*) or single underscores (_). This tells Markdown to render the enclosed text in an italicized font style."
   ]
  },
  {
   "cell_type": "markdown",
   "id": "9128e402-ff82-492f-a1e8-cd3552186122",
   "metadata": {},
   "source": [
    "*italic text*  \n",
    "_italic text_"
   ]
  },
  {
   "cell_type": "markdown",
   "id": "dffd264d-a476-44ca-9d59-d8c6c35daaa2",
   "metadata": {},
   "source": [
    "##### Strikethrough"
   ]
  },
  {
   "cell_type": "markdown",
   "id": "649c79c1-d485-412d-8978-7b2d6ec6e109",
   "metadata": {},
   "source": [
    "To strike through text, use double tildes (~~) before and after the text you want to strike through. This indicates to Markdown that the enclosed text should be displayed with a strikethrough effect."
   ]
  },
  {
   "cell_type": "markdown",
   "id": "55c29dfb-fbf7-4b7a-ba8c-3c0e878a4880",
   "metadata": {},
   "source": [
    "~~strikethrough text~~"
   ]
  },
  {
   "cell_type": "markdown",
   "id": "7761ded0-3c44-4e96-8a34-6dfc712bf312",
   "metadata": {},
   "source": [
    "##### Superscript"
   ]
  },
  {
   "cell_type": "markdown",
   "id": "39c2ddff-aca8-48f7-8fc7-c275a2e6087e",
   "metadata": {},
   "source": [
    "To create superscript text, use the caret symbol (^) followed by the text you want to appear in superscript enclosed in parentheses. This tells Markdown to render the enclosed text as superscript."
   ]
  },
  {
   "cell_type": "markdown",
   "id": "e05f74e3-436e-42fe-8ff8-fc153b4bed74",
   "metadata": {},
   "source": [
    "x^2^"
   ]
  },
  {
   "cell_type": "markdown",
   "id": "00fb2d73-8b24-46b0-819b-ace378d852e7",
   "metadata": {},
   "source": [
    "##### Subscript"
   ]
  },
  {
   "cell_type": "markdown",
   "id": "d6caa104-6eb1-4392-a415-f0db32b78dee",
   "metadata": {},
   "source": [
    "To create subscript text, use the tilde symbol (~) followed by the text you want to appear in subscript enclosed in parentheses. This tells Markdown to render the enclosed text as subscript."
   ]
  },
  {
   "cell_type": "markdown",
   "id": "a9463b45-4c08-47ad-a0d1-34854ad09019",
   "metadata": {},
   "source": [
    "H~2~O"
   ]
  },
  {
   "cell_type": "markdown",
   "id": "21efe657-b27c-40b2-81da-7db4d9b2169e",
   "metadata": {},
   "source": [
    "##### Inline Code"
   ]
  },
  {
   "cell_type": "markdown",
   "id": "0533891a-9db7-4a2d-9c36-7d9f0383b17f",
   "metadata": {},
   "source": [
    "Enclose code or code snippets within backticks (`) to display inline code. This is useful for referencing code elements within a paragraph."
   ]
  },
  {
   "cell_type": "markdown",
   "id": "2a059289-7126-49d9-a481-14c7a9a892c1",
   "metadata": {},
   "source": [
    "`print(\"Hello, World!\")`"
   ]
  },
  {
   "cell_type": "markdown",
   "id": "6447e646-f35a-4552-860b-ecdb7e62f6d5",
   "metadata": {},
   "source": [
    "##### Blockquotes"
   ]
  },
  {
   "cell_type": "markdown",
   "id": "c5862f18-b6ae-49f3-8dcd-1fbea7596887",
   "metadata": {},
   "source": [
    "Prefix text with a greater-than sign (>) to create blockquotes for quoted text or important information. Blockquotes are commonly used to highlight excerpts from other sources or to emphasize key points. The blockquote continues until the next non-indented line, or until the end of the document if there are no more lines."
   ]
  },
  {
   "cell_type": "markdown",
   "id": "fe0db84d-5265-42d8-9b30-919b8a60c4b9",
   "metadata": {},
   "source": [
    "> This is a blockquote."
   ]
  },
  {
   "cell_type": "markdown",
   "id": "c9c19c29-0c9e-4d02-84fd-99943006e1a2",
   "metadata": {},
   "source": [
    "##### Horizontal Rules"
   ]
  },
  {
   "cell_type": "markdown",
   "id": "31c473fd-7714-48b1-b59e-55c7753c3b57",
   "metadata": {},
   "source": [
    "Use three or more hyphens (---), asterisks (***), or underscores (___) on a separate line to create horizontal rules. Horizontal rules help to visually separate sections of content within a document."
   ]
  },
  {
   "cell_type": "markdown",
   "id": "2f76d255-8f82-4019-a3e3-bb632095bfb7",
   "metadata": {},
   "source": [
    "---  \n",
    "***  \n",
    "___"
   ]
  },
  {
   "cell_type": "markdown",
   "id": "23b445aa-e92b-46b5-9fb6-4576a6751a4b",
   "metadata": {},
   "source": [
    "##### List"
   ]
  },
  {
   "cell_type": "markdown",
   "id": "26c4f8b8-2258-4a4c-af49-07da4a06394b",
   "metadata": {},
   "source": [
    "Markdown supports both ordered (numbered) and unordered (bullet) lists."
   ]
  },
  {
   "cell_type": "markdown",
   "id": "8e41782a-669b-4c3e-ba09-53fd4374ced9",
   "metadata": {},
   "source": [
    "##### Ordered List"
   ]
  },
  {
   "cell_type": "markdown",
   "id": "b284b0ce-85c9-4540-9636-bd03790874a3",
   "metadata": {},
   "source": [
    "Use numbers followed by periods."
   ]
  },
  {
   "cell_type": "markdown",
   "id": "288a9c55-af64-4e5a-8ded-0b784aedf6e8",
   "metadata": {},
   "source": [
    "1. Item 1\n",
    "2. Item 2\n",
    "   - Subitem"
   ]
  },
  {
   "cell_type": "markdown",
   "id": "f731a45e-a609-4e78-a016-1119f9e645c4",
   "metadata": {},
   "source": [
    "##### Unordered List"
   ]
  },
  {
   "cell_type": "markdown",
   "id": "b0d1c444-bba7-4d9e-b52f-8ae6828b42f6",
   "metadata": {},
   "source": [
    "Use dashes, asterisks, or plus signs."
   ]
  },
  {
   "cell_type": "markdown",
   "id": "44802210-9450-4f7f-b081-dd2b210e2e67",
   "metadata": {},
   "source": [
    "- Item 1\n",
    "- Item 2\n",
    "  * Subitem"
   ]
  },
  {
   "cell_type": "markdown",
   "id": "f7e75aa8-e55b-43ff-a744-642a721574f3",
   "metadata": {},
   "source": [
    "##### Task List"
   ]
  },
  {
   "cell_type": "markdown",
   "id": "fc9df7fb-906f-45df-8ec1-9d92a5407f43",
   "metadata": {},
   "source": [
    "Create task lists by using dash (-) followed by brackets with a space to indicate task completion."
   ]
  },
  {
   "cell_type": "markdown",
   "id": "a156c9f6-aaeb-4bec-987a-01bee29bb288",
   "metadata": {},
   "source": [
    "- Item 1\n",
    "- Item 2\n",
    "  * Subitem"
   ]
  },
  {
   "cell_type": "markdown",
   "id": "81f3a24f-a807-464a-9b5f-241dc35f8ec5",
   "metadata": {},
   "source": [
    "##### Links"
   ]
  },
  {
   "cell_type": "markdown",
   "id": "39042fbb-83f4-447c-b02a-8a5484414444",
   "metadata": {},
   "source": [
    "Surround the link text with square brackets ([]) and follow it with the URL in parentheses (())."
   ]
  },
  {
   "cell_type": "markdown",
   "id": "bb283ae3-5ffb-4732-b1d2-c29e7466ed95",
   "metadata": {},
   "source": [
    "[Google](https://www.google.com)"
   ]
  },
  {
   "cell_type": "markdown",
   "id": "06125401-7f1a-4b2d-bec2-c16fee4c4e52",
   "metadata": {},
   "source": [
    "##### Images"
   ]
  },
  {
   "cell_type": "markdown",
   "id": "ab3fdbab-ec0b-4cb6-a25d-fd245cfc398f",
   "metadata": {},
   "source": [
    "Similar to links, but with an exclamation mark (!) before the square brackets.\n",
    "Example: ```![Image Alt Text](image-url)```"
   ]
  },
  {
   "cell_type": "markdown",
   "id": "f01b1487-3b7a-465b-9bbb-30cc7eda0837",
   "metadata": {},
   "source": [
    "![Image Alt Text](https://cdn.icon-icons.com/icons2/2699/PNG/512/jupyter_logo_icon_169453.png)"
   ]
  },
  {
   "cell_type": "markdown",
   "id": "cb8db384-96d4-4e7d-96e0-badf31e80cda",
   "metadata": {},
   "source": [
    "##### Table"
   ]
  },
  {
   "cell_type": "markdown",
   "id": "570452d0-30e6-42bf-8414-9539d4144315",
   "metadata": {},
   "source": [
    "A table is a structured arrangement of data into rows and columns, typically used to organize and present information in a clear and systematic way. In markdown, a table consists of rows and columns represented using simple characters like pipes (|) and hyphens (-). Each row is separated by a line break, and within each row, columns are defined by the pipe character. The first row of a table usually contains column headers, while subsequent rows contain data corresponding to those headers.\n",
    "\n",
    "Tables are commonly used in documents, websites, and other digital content to display information such as statistics, lists, schedules, or any data that can be logically organized into rows and columns. They provide a visually structured format that makes it easy for readers to interpret and compare different pieces of data."
   ]
  },
  {
   "cell_type": "markdown",
   "id": "ea4c73f5-a0a1-4fa7-b5bb-344615eabb32",
   "metadata": {},
   "source": [
    "1. Headers: Headers are defined by using a pipe symbol (|) to separate columns and hyphens (-) to separate the header row from the content rows. Each column's width is determined by the width of the content within it.\n",
    "2. Content Rows: Content rows follow the same format as the header row. Each cell's content is separated by pipe symbols (|).\n",
    "3. Formatting: You can include basic formatting within cells, such as italics, bold, or links, just like in regular Markdown text."
   ]
  },
  {
   "cell_type": "markdown",
   "id": "9f5a5603-5e23-41c8-a2b2-5cc897cdda90",
   "metadata": {},
   "source": [
    "| Header 1   | Header 2   | Header 3   |\n",
    "|------------|------------|------------|\n",
    "| Row 1, Col 1 | Row 1, Col 2 | Row 1, Col 3 |\n",
    "| Row 2, Col 1 | Row 2, Col 2 | Row 2, Col 3 |"
   ]
  },
  {
   "cell_type": "code",
   "execution_count": null,
   "id": "44601936-825a-4d8f-8597-3b478ebe3662",
   "metadata": {},
   "outputs": [],
   "source": []
  }
 ],
 "metadata": {
  "kernelspec": {
   "display_name": "Python 3 (ipykernel)",
   "language": "python",
   "name": "python3"
  },
  "language_info": {
   "codemirror_mode": {
    "name": "ipython",
    "version": 3
   },
   "file_extension": ".py",
   "mimetype": "text/x-python",
   "name": "python",
   "nbconvert_exporter": "python",
   "pygments_lexer": "ipython3",
   "version": "3.10.12"
  }
 },
 "nbformat": 4,
 "nbformat_minor": 5
}
